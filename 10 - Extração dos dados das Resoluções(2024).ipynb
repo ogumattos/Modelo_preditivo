{
 "cells": [
  {
   "cell_type": "markdown",
   "metadata": {},
   "source": [
    "# Extração dos textos das resoluções em pdf, gerando novo dataset\n",
    "\n",
    "O objetivo é identificar e extrair o texto contido nas resoluções em PDF para cada protocolo identificado na lista consolidada do ProInfo (01 - ProInfo - Lista Consolidada v1_0.xlsx)\n",
    "\n",
    "Os passos são:\n",
    "- identificar se a página possui um cabeçalho (se possuir um número de protocolo válido);\n",
    "- associar o número da página no arquivo do ProInfo;\n",
    "- extrair o texto da página e inserir na tabela; e\n",
    "- verificar se foram identificadas as páginas de resoluções para todos os protocolos do ProInfo.\n",
    "\n",
    "Produtos:<br>\n",
    "10 - Resoluções digitalizadas v1_0.xlsx<br>\n",
    " - PAG\n",
    " - PROTOCOLO\n",
    " - TEXTO_PDF\n",
    " - Relator"
   ]
  },
  {
   "cell_type": "markdown",
   "metadata": {},
   "source": [
    "# 1 - Tratamentos iniciais\n",
    "Criação de um Dataframe com informações sobre o arquivo PDF:\n",
    "- identificação do Gabinete do relator // Esse passo pode ser eliminado\n",
    "- identificação do protocolo do processo\n",
    "- identificação inicial das páginas válidas\n",
    "- As informações no DataFrame estarão relacionadas com o arquivo PDF pelo número da página"
   ]
  },
  {
   "cell_type": "code",
   "execution_count": null,
   "metadata": {},
   "outputs": [],
   "source": [
    "# !pip install pdfplumber"
   ]
  },
  {
   "cell_type": "code",
   "execution_count": 1,
   "metadata": {},
   "outputs": [],
   "source": [
    "import pandas as pd\n",
    "import re\n",
    "import pdfplumber"
   ]
  },
  {
   "cell_type": "code",
   "execution_count": 3,
   "metadata": {},
   "outputs": [],
   "source": [
    "path_produtos = 'Dados\\\\Produtos\\\\'\n",
    "path_originais = 'Dados\\\\Coletados\\\\'\n",
    "path_ajustados = 'Dados\\\\Ajustados\\\\'"
   ]
  },
  {
   "cell_type": "code",
   "execution_count": 5,
   "metadata": {},
   "outputs": [],
   "source": [
    "# Carrega DataSet gerado em \"01 - Tratamento Inicial dos DataSets\"\n",
    "pdf = pdfplumber.open(path_ajustados+\"Resoluções v1_0 ago-24.pdf\")"
   ]
  },
  {
   "cell_type": "code",
   "execution_count": 6,
   "metadata": {},
   "outputs": [],
   "source": [
    "# Função para extrair os textos dos PDF e estruturar o DataFrame com os conteúdos de um DataFrame por página do arquivo PDF identificando o Protocolo, Gabinete e conteúdo de texto.\n",
    "def IndentificaPaginasValidas(resol_pdf):\n",
    "    re_protocolo = re.compile(r'TCE/\\d{4,6}/20\\d\\d') # Máscara de ER para identificação do número do protocolo\n",
    "    re_gabinete = r'(Gabinete do Conselheiro|Gabinete da Conselheira|Gabinete Cons.):?\\s?(.*?)(\\W)?\\n' # ER para identificar o Gabinete do Conselheiro\n",
    "    df_cons = pd.DataFrame(columns=['PAG','GABINETE','PROTOCOLO', 'TEXTO_PDF'])\n",
    "    for pagina in resol_pdf:\n",
    "        bounding_box = (30,10,pagina.width-30, pagina.height-10) # Limites de página. Importante para evitar sujeira no texto causada por textos escritos na borda do PDF.\n",
    "        pagina_pdf = pagina.crop(bounding_box, relative=False, strict=True)\n",
    "        pagina_txt = pagina_pdf.extract_text(layout=False,   horizontal_ltr=True) #vertical_ttb=False,\n",
    "        pagina_txt = re.sub(r'(TCE/) *(\\d{4,6}) *(/20\\d\\d)', r'\\1\\2\\3', pagina_txt) # Correção de espaços em branco no número do protocolo\n",
    "        pagina_txt = re.sub(r'TCE/0*(\\d{1,6})/(\\d{4})', lambda x: f'TCE/{x.group(1).zfill(6)}/{x.group(2)}', pagina_txt) # Correção da quantidade de zeros a esquerda no protocolo.\n",
    "        protocolo_search = re_protocolo.search(pagina_txt)  # Identifica se tem e qual o número do protocolo\n",
    "        if protocolo_search:\n",
    "            protocolo = protocolo_search[0]     \n",
    "            gabinete_search = re.search(re_gabinete, pagina_txt, re.DOTALL|re.IGNORECASE|re.ASCII) # Identifica qual o Gabinete\n",
    "            if gabinete_search:\n",
    "                gabinete = gabinete_search.group(2)\n",
    "            else:\n",
    "                gabinete = pd.NA\n",
    "        else:\n",
    "            protocolo = pd.NA\n",
    "            gabinete = pd.NA\n",
    "        nova_linha = {'PAG':[pagina.page_number], 'PROTOCOLO':[protocolo],'GABINETE':[gabinete], 'TEXTO_PDF':[pagina_txt]}\n",
    "        df_cons = pd.concat([df_cons, pd.DataFrame(nova_linha)])\n",
    "        \n",
    "    return df_cons\n"
   ]
  },
  {
   "cell_type": "code",
   "execution_count": 7,
   "metadata": {},
   "outputs": [
    {
     "ename": "ModuleNotFoundError",
     "evalue": "No module named 'openpyxl'",
     "output_type": "error",
     "traceback": [
      "\u001b[1;31m---------------------------------------------------------------------------\u001b[0m",
      "\u001b[1;31mModuleNotFoundError\u001b[0m                       Traceback (most recent call last)",
      "Cell \u001b[1;32mIn[7], line 6\u001b[0m\n\u001b[0;32m      1\u001b[0m \u001b[38;5;66;03m# Executa a função para extrair os textos dos PDF e estruturar o DataFrame com os conteúdos\u001b[39;00m\n\u001b[0;32m      2\u001b[0m \u001b[38;5;66;03m# e salva o resultado em disco\u001b[39;00m\n\u001b[0;32m      3\u001b[0m \u001b[38;5;66;03m# \"ESSE CÓDIGO DEMORA PARA SER EXECUTADO (7min)\"\u001b[39;00m\n\u001b[0;32m      5\u001b[0m df_resol_ini \u001b[38;5;241m=\u001b[39m IndentificaPaginasValidas(pdf\u001b[38;5;241m.\u001b[39mpages)\n\u001b[1;32m----> 6\u001b[0m df_resol_ini\u001b[38;5;241m.\u001b[39mto_excel(path_ajustados\u001b[38;5;241m+\u001b[39m\u001b[38;5;124m'\u001b[39m\u001b[38;5;124m10 - Resoluções Extraídas v1_0.xlsx\u001b[39m\u001b[38;5;124m'\u001b[39m)\n",
      "File \u001b[1;32mc:\\ProgramData\\miniconda3\\Lib\\site-packages\\pandas\\util\\_decorators.py:333\u001b[0m, in \u001b[0;36mdeprecate_nonkeyword_arguments.<locals>.decorate.<locals>.wrapper\u001b[1;34m(*args, **kwargs)\u001b[0m\n\u001b[0;32m    327\u001b[0m \u001b[38;5;28;01mif\u001b[39;00m \u001b[38;5;28mlen\u001b[39m(args) \u001b[38;5;241m>\u001b[39m num_allow_args:\n\u001b[0;32m    328\u001b[0m     warnings\u001b[38;5;241m.\u001b[39mwarn(\n\u001b[0;32m    329\u001b[0m         msg\u001b[38;5;241m.\u001b[39mformat(arguments\u001b[38;5;241m=\u001b[39m_format_argument_list(allow_args)),\n\u001b[0;32m    330\u001b[0m         \u001b[38;5;167;01mFutureWarning\u001b[39;00m,\n\u001b[0;32m    331\u001b[0m         stacklevel\u001b[38;5;241m=\u001b[39mfind_stack_level(),\n\u001b[0;32m    332\u001b[0m     )\n\u001b[1;32m--> 333\u001b[0m \u001b[38;5;28;01mreturn\u001b[39;00m func(\u001b[38;5;241m*\u001b[39margs, \u001b[38;5;241m*\u001b[39m\u001b[38;5;241m*\u001b[39mkwargs)\n",
      "File \u001b[1;32mc:\\ProgramData\\miniconda3\\Lib\\site-packages\\pandas\\core\\generic.py:2417\u001b[0m, in \u001b[0;36mNDFrame.to_excel\u001b[1;34m(self, excel_writer, sheet_name, na_rep, float_format, columns, header, index, index_label, startrow, startcol, engine, merge_cells, inf_rep, freeze_panes, storage_options, engine_kwargs)\u001b[0m\n\u001b[0;32m   2404\u001b[0m \u001b[38;5;28;01mfrom\u001b[39;00m \u001b[38;5;21;01mpandas\u001b[39;00m\u001b[38;5;21;01m.\u001b[39;00m\u001b[38;5;21;01mio\u001b[39;00m\u001b[38;5;21;01m.\u001b[39;00m\u001b[38;5;21;01mformats\u001b[39;00m\u001b[38;5;21;01m.\u001b[39;00m\u001b[38;5;21;01mexcel\u001b[39;00m \u001b[38;5;28;01mimport\u001b[39;00m ExcelFormatter\n\u001b[0;32m   2406\u001b[0m formatter \u001b[38;5;241m=\u001b[39m ExcelFormatter(\n\u001b[0;32m   2407\u001b[0m     df,\n\u001b[0;32m   2408\u001b[0m     na_rep\u001b[38;5;241m=\u001b[39mna_rep,\n\u001b[1;32m   (...)\u001b[0m\n\u001b[0;32m   2415\u001b[0m     inf_rep\u001b[38;5;241m=\u001b[39minf_rep,\n\u001b[0;32m   2416\u001b[0m )\n\u001b[1;32m-> 2417\u001b[0m formatter\u001b[38;5;241m.\u001b[39mwrite(\n\u001b[0;32m   2418\u001b[0m     excel_writer,\n\u001b[0;32m   2419\u001b[0m     sheet_name\u001b[38;5;241m=\u001b[39msheet_name,\n\u001b[0;32m   2420\u001b[0m     startrow\u001b[38;5;241m=\u001b[39mstartrow,\n\u001b[0;32m   2421\u001b[0m     startcol\u001b[38;5;241m=\u001b[39mstartcol,\n\u001b[0;32m   2422\u001b[0m     freeze_panes\u001b[38;5;241m=\u001b[39mfreeze_panes,\n\u001b[0;32m   2423\u001b[0m     engine\u001b[38;5;241m=\u001b[39mengine,\n\u001b[0;32m   2424\u001b[0m     storage_options\u001b[38;5;241m=\u001b[39mstorage_options,\n\u001b[0;32m   2425\u001b[0m     engine_kwargs\u001b[38;5;241m=\u001b[39mengine_kwargs,\n\u001b[0;32m   2426\u001b[0m )\n",
      "File \u001b[1;32mc:\\ProgramData\\miniconda3\\Lib\\site-packages\\pandas\\io\\formats\\excel.py:943\u001b[0m, in \u001b[0;36mExcelFormatter.write\u001b[1;34m(self, writer, sheet_name, startrow, startcol, freeze_panes, engine, storage_options, engine_kwargs)\u001b[0m\n\u001b[0;32m    941\u001b[0m     need_save \u001b[38;5;241m=\u001b[39m \u001b[38;5;28;01mFalse\u001b[39;00m\n\u001b[0;32m    942\u001b[0m \u001b[38;5;28;01melse\u001b[39;00m:\n\u001b[1;32m--> 943\u001b[0m     writer \u001b[38;5;241m=\u001b[39m ExcelWriter(\n\u001b[0;32m    944\u001b[0m         writer,\n\u001b[0;32m    945\u001b[0m         engine\u001b[38;5;241m=\u001b[39mengine,\n\u001b[0;32m    946\u001b[0m         storage_options\u001b[38;5;241m=\u001b[39mstorage_options,\n\u001b[0;32m    947\u001b[0m         engine_kwargs\u001b[38;5;241m=\u001b[39mengine_kwargs,\n\u001b[0;32m    948\u001b[0m     )\n\u001b[0;32m    949\u001b[0m     need_save \u001b[38;5;241m=\u001b[39m \u001b[38;5;28;01mTrue\u001b[39;00m\n\u001b[0;32m    951\u001b[0m \u001b[38;5;28;01mtry\u001b[39;00m:\n",
      "File \u001b[1;32mc:\\ProgramData\\miniconda3\\Lib\\site-packages\\pandas\\io\\excel\\_openpyxl.py:57\u001b[0m, in \u001b[0;36mOpenpyxlWriter.__init__\u001b[1;34m(self, path, engine, date_format, datetime_format, mode, storage_options, if_sheet_exists, engine_kwargs, **kwargs)\u001b[0m\n\u001b[0;32m     44\u001b[0m \u001b[38;5;28;01mdef\u001b[39;00m \u001b[38;5;21m__init__\u001b[39m(\n\u001b[0;32m     45\u001b[0m     \u001b[38;5;28mself\u001b[39m,\n\u001b[0;32m     46\u001b[0m     path: FilePath \u001b[38;5;241m|\u001b[39m WriteExcelBuffer \u001b[38;5;241m|\u001b[39m ExcelWriter,\n\u001b[1;32m   (...)\u001b[0m\n\u001b[0;32m     55\u001b[0m ) \u001b[38;5;241m-\u001b[39m\u001b[38;5;241m>\u001b[39m \u001b[38;5;28;01mNone\u001b[39;00m:\n\u001b[0;32m     56\u001b[0m     \u001b[38;5;66;03m# Use the openpyxl module as the Excel writer.\u001b[39;00m\n\u001b[1;32m---> 57\u001b[0m     \u001b[38;5;28;01mfrom\u001b[39;00m \u001b[38;5;21;01mopenpyxl\u001b[39;00m\u001b[38;5;21;01m.\u001b[39;00m\u001b[38;5;21;01mworkbook\u001b[39;00m \u001b[38;5;28;01mimport\u001b[39;00m Workbook\n\u001b[0;32m     59\u001b[0m     engine_kwargs \u001b[38;5;241m=\u001b[39m combine_kwargs(engine_kwargs, kwargs)\n\u001b[0;32m     61\u001b[0m     \u001b[38;5;28msuper\u001b[39m()\u001b[38;5;241m.\u001b[39m\u001b[38;5;21m__init__\u001b[39m(\n\u001b[0;32m     62\u001b[0m         path,\n\u001b[0;32m     63\u001b[0m         mode\u001b[38;5;241m=\u001b[39mmode,\n\u001b[1;32m   (...)\u001b[0m\n\u001b[0;32m     66\u001b[0m         engine_kwargs\u001b[38;5;241m=\u001b[39mengine_kwargs,\n\u001b[0;32m     67\u001b[0m     )\n",
      "\u001b[1;31mModuleNotFoundError\u001b[0m: No module named 'openpyxl'"
     ]
    }
   ],
   "source": [
    "# Executa a função para extrair os textos dos PDF e estruturar o DataFrame com os conteúdos\n",
    "# e salva o resultado em disco\n",
    "# \"ESSE CÓDIGO DEMORA PARA SER EXECUTADO (7min)\"\n",
    "\n",
    "df_resol_ini = IndentificaPaginasValidas(pdf.pages)\n"
   ]
  },
  {
   "cell_type": "code",
   "execution_count": 8,
   "metadata": {},
   "outputs": [],
   "source": [
    "import openpyxl\n",
    "df_resol_ini.to_excel(path_ajustados+'10 - Resoluções Extraídas v1_0.xlsx')"
   ]
  },
  {
   "cell_type": "markdown",
   "metadata": {},
   "source": [
    "# Verifica se todos os protocolos do ProInfo (df_proinfo) foram carregados no arquivo de resoluções (df_resol_ini)"
   ]
  },
  {
   "cell_type": "code",
   "execution_count": null,
   "metadata": {},
   "outputs": [],
   "source": [
    "# Carrega nas variáveis o resultado da extração da função IndentificaPaginasValidas()\n",
    "df_resol_ini = pd.read_excel(path_ajustados+'10 - Resoluções Extraídas v1_0.xlsx', index_col=0)\n",
    "df_resol_ini.reset_index(drop=True, inplace=True)\n",
    "df_proinfo = pd.read_excel(path_produtos+'01 - ProInfo - Lista Consolidada v1_0.xlsx', usecols=['Número','Ano','Protocolo','Natureza','Relator','Exercício'])"
   ]
  },
  {
   "cell_type": "code",
   "execution_count": null,
   "metadata": {},
   "outputs": [],
   "source": [
    "df_resol_ini.info()"
   ]
  },
  {
   "cell_type": "code",
   "execution_count": null,
   "metadata": {},
   "outputs": [],
   "source": [
    "df_proinfo"
   ]
  },
  {
   "cell_type": "code",
   "execution_count": null,
   "metadata": {},
   "outputs": [],
   "source": [
    "set_resol = set(df_resol_ini['PROTOCOLO'])\n",
    "set_proinfo = set(df_proinfo['Protocolo'])\n",
    "print(f'Número de protocolos em Resoluções = {len(set_resol)}')\n",
    "print(f'Número de protocolos em ProInfo = {len(set_proinfo)}')\n",
    "print(f'Quantidade de protocolos existentes em Resoluções faltando em ProInfo = {len(set_resol - set_proinfo)}')\n",
    "print(f'Quantidade de protocolos existentes em ProInfo faltando em Resoluções = {len(set_proinfo - set_resol)}')\n",
    "investigar = set_proinfo - set_resol # Protocolos do ProInfo não identificado em Resoluções\n"
   ]
  },
  {
   "cell_type": "code",
   "execution_count": null,
   "metadata": {},
   "outputs": [],
   "source": [
    "investigar"
   ]
  },
  {
   "cell_type": "code",
   "execution_count": null,
   "metadata": {},
   "outputs": [],
   "source": [
    "# Nova rodada para identificação de páginas com protocolos e extração dos textos dos PDF além de estruturar o DataFrame com os conteúdos de um DataFrame por página do arquivo PDF identificando o Protocolo, Gabinete e conteúdo de texto.\n",
    "\n",
    "def IndentificaPaginasValidas2(resol_pdf):\n",
    "    re_protocolo = re.compile(r'TCE\\s?[/\\\\]? ?\\d{3,9}/20\\d\\d') # Máscara de ER para identificação do número do protocolo\n",
    "    re_gabinete = r'(Gabinete do Conselheiro|Gabinete da Conselheira|Gabinete Cons.):?\\s?(.*?)(\\W)?\\n' # ER para identificar o Gabinete do Conselheiro\n",
    "    df_cons = pd.DataFrame(columns=['PAG','GABINETE','PROTOCOLO', 'TEXTO_PDF'])\n",
    "    ind=0\n",
    "    for pagina in resol_pdf:\n",
    "        print(ind)\n",
    "        if pd.isna(df_resol_ini.loc[ind, 'PROTOCOLO']): # Executa a rotina para as páginas que não foram encontradas o protocolo na primeira avaliação\n",
    "            bounding_box = (30,10,pagina.width-30, pagina.height-10) # Limites de página. Importante para evitar sujeira no texto causada por textos escritos na borda do PDF.\n",
    "            pagina_pdf = pagina.crop(bounding_box, relative=False, strict=True)\n",
    "            pagina_txt = pagina_pdf.extract_text(layout=False,   horizontal_ltr=True) #vertical_ttb=False,\n",
    "            pagina_txt = re.sub(r'(TCE/) *(\\d{4,6}) *(/20\\d\\d)', r'\\1\\2\\3', pagina_txt) # Correção de espaços em branco no número do protocolo\n",
    "            pagina_txt = re.sub(r'TCE/0*(\\d{1,6})/(\\d{4})', lambda x: f'TCE/{x.group(1).zfill(6)}/{x.group(2)}', pagina_txt) # Correção da quantidade de zeros a esquerda no protocolo.\n",
    "            protocolo_search = re_protocolo.search(pagina_txt)  # Identifica se tem e qual o número do protocolo\n",
    "            if protocolo_search:\n",
    "                protocolo = protocolo_search[0]     \n",
    "                gabinete_search = re.search(re_gabinete, pagina_txt, re.DOTALL|re.IGNORECASE|re.ASCII) # Identifica qual o Gabinete\n",
    "                if gabinete_search:\n",
    "                    gabinete = gabinete_search.group(2)\n",
    "                else:\n",
    "                    gabinete = pd.NA\n",
    "            else:\n",
    "                protocolo = pd.NA\n",
    "                gabinete = pd.NA\n",
    "            nova_linha = {'PAG':[pagina.page_number], 'PROTOCOLO':[protocolo],'GABINETE':[gabinete], 'TEXTO_PDF':[pagina_txt]}\n",
    "            df_cons = pd.concat([df_cons, pd.DataFrame(nova_linha)])\n",
    "            ind=ind+1\n",
    "        else:\n",
    "            ind=ind+1\n",
    "            continue\n",
    "\n",
    "    return df_cons\n",
    "\n",
    "df_resol_ini2 = IndentificaPaginasValidas2(pdf.pages)\n"
   ]
  },
  {
   "cell_type": "code",
   "execution_count": null,
   "metadata": {},
   "outputs": [],
   "source": [
    "df_resol_ini2.loc[df_resol_ini2['PROTOCOLO'] == 'TCE003416/2013', 'PROTOCOLO'] = 'TCE/003416/2013'"
   ]
  },
  {
   "cell_type": "code",
   "execution_count": null,
   "metadata": {},
   "outputs": [],
   "source": [
    "protocolos_ajustados = []"
   ]
  },
  {
   "cell_type": "code",
   "execution_count": null,
   "metadata": {},
   "outputs": [],
   "source": [
    "df_resol_ini2['PROTOCOLO'].value_counts()"
   ]
  },
  {
   "cell_type": "code",
   "execution_count": null,
   "metadata": {},
   "outputs": [],
   "source": [
    "df_resol_ini2['PROTOCOLO'] = df_resol_ini2['PROTOCOLO'].apply(lambda valor: valor.replace('TCE /', 'TCE/').replace('TCE 0', 'TCE/0') if pd.notna(valor) else valor)\n",
    "df_resol_ini2['PROTOCOLO'].value_counts()"
   ]
  },
  {
   "cell_type": "code",
   "execution_count": null,
   "metadata": {},
   "outputs": [],
   "source": [
    "# Substituir as linhas em df_resol com base na coluna \"PAG\"\n",
    "df_resol_ini.set_index('PAG', inplace=True)\n",
    "df_resol_ini2.set_index('PAG', inplace=True)\n",
    "#df_resol_ini2.set_index('PAG', inplace=True)\n",
    "\n",
    "df_resol_ini.update(df_resol_ini2)\n",
    "\n",
    "# Resetar o índice, se necessário\n",
    "df_resol_ini.reset_index(inplace=True)\n",
    "\n"
   ]
  },
  {
   "cell_type": "code",
   "execution_count": null,
   "metadata": {},
   "outputs": [],
   "source": [
    "set_resol = set(df_resol_ini['PROTOCOLO'])\n",
    "set_proinfo = set(df_proinfo['Protocolo'])\n",
    "print(f'Número de protocolos em Resoluções = {len(set_resol)}')\n",
    "print(f'Número de protocolos em ProInfo = {len(set_proinfo)}')\n",
    "print(f'Quantidade de protocolos existentes em Resoluções faltando em ProInfo = {len(set_resol - set_proinfo)}')\n",
    "print(f'Quantidade de protocolos existentes em ProInfo faltando em Resoluções = {len(set_proinfo - set_resol)}')\n",
    "investigar = set_proinfo - set_resol"
   ]
  },
  {
   "cell_type": "code",
   "execution_count": null,
   "metadata": {},
   "outputs": [],
   "source": [
    "investigar"
   ]
  },
  {
   "cell_type": "code",
   "execution_count": null,
   "metadata": {},
   "outputs": [],
   "source": [
    "df_resol_ini.info()"
   ]
  },
  {
   "cell_type": "code",
   "execution_count": null,
   "metadata": {},
   "outputs": [],
   "source": [
    "lista = []\n",
    "for valor in df_resol_ini['PROTOCOLO']:\n",
    "    if pd.isna(valor):\n",
    "        lista.append(0)\n",
    "    else:\n",
    "        lista.append(len(valor))"
   ]
  },
  {
   "cell_type": "code",
   "execution_count": null,
   "metadata": {},
   "outputs": [],
   "source": [
    "df_resol_ini['lista'] = lista\n",
    "df_resol_ini.loc[(df_resol_ini['lista'] ==13)|(df_resol_ini['lista'] ==14)]"
   ]
  },
  {
   "cell_type": "code",
   "execution_count": null,
   "metadata": {},
   "outputs": [],
   "source": [
    "for ind in df_resol_ini.loc[df_resol_ini['lista']==13, 'PROTOCOLO'].index:\n",
    "    df_resol_ini.loc[ind, 'PROTOCOLO'] = df_resol_ini.loc[ind, 'PROTOCOLO'].replace('TCE/', 'TCE/00')\n",
    "\n",
    "for ind in df_resol_ini.loc[df_resol_ini['lista']==14, 'PROTOCOLO'].index:\n",
    "    print(df_resol_ini.loc[ind, 'PROTOCOLO'].replace('TCE/', 'TCE/0'))\n",
    "    df_resol_ini.loc[ind, 'PROTOCOLO'] = df_resol_ini.loc[ind, 'PROTOCOLO'].replace('TCE/', 'TCE/0')"
   ]
  },
  {
   "cell_type": "code",
   "execution_count": null,
   "metadata": {},
   "outputs": [],
   "source": [
    "df_resol_ini.loc[(df_resol_ini['lista'] ==13)|(df_resol_ini['lista'] ==14)]"
   ]
  },
  {
   "cell_type": "code",
   "execution_count": null,
   "metadata": {},
   "outputs": [],
   "source": [
    "set_resol = set(df_resol_ini['PROTOCOLO'])\n",
    "set_proinfo = set(df_proinfo['Protocolo'])\n",
    "print(f'Número de protocolos em Resoluções = {len(set_resol)}')\n",
    "print(f'Número de protocolos em ProInfo = {len(set_proinfo)}')\n",
    "print(f'Quantidade de protocolos existentes em Resoluções faltando em ProInfo = {len(set_resol - set_proinfo)}')\n",
    "print(f'Quantidade de protocolos existentes em ProInfo faltando em Resoluções = {len(set_proinfo - set_resol)}')\n",
    "investigar = set_proinfo - set_resol"
   ]
  },
  {
   "cell_type": "code",
   "execution_count": null,
   "metadata": {},
   "outputs": [],
   "source": [
    "df_proinfo.loc[df_proinfo['Protocolo'].isin(investigar), ['Número', 'Ano', 'Protocolo']]"
   ]
  },
  {
   "cell_type": "markdown",
   "metadata": {},
   "source": [
    "# Análise a partir do número da resolução<br>\n",
    " 223/2013\tTCE/000502/2012:4762<br>\n",
    " 253/2013\tTCE/010805/2002:4818<br>\n",
    " 258/2013\tTCE/002978/2008:4800<br>\n",
    " 238/2014\tTCE/001234/2007:5073<br>\n",
    " 560/2014\tTCE/000413/2013:5365<br>\n",
    " 655/2014\tTCE/005132/2003:5453<br>\n",
    " 656/2014\tTCE/000781/2006:5454<br>\n",
    " 8/2015\t\tTCE/002936/2006:1915<br>\n",
    " 111/2015\tTCE/000079/2010:2003<br>\n",
    " 253/2015\tTCE/001134/2010:2119<br>\n",
    " 287/2015\tTCE/003532/2013:2145<br>\n",
    " 407/2015\tTCE/002493/2004:2297<br>\n",
    " 421/2015\tTCE/005953/2003:1726<br>\n",
    " 72/2017\tTCE/004178/2008:2817<br>\n",
    " 127/2017\tTCE/005510/2016:2878<br>\n",
    " 114/2018\tTCE/001895/2007:3053<br>\n",
    " 132/2018\tTCE/003429/2011:3078<br>\n",
    " 6/2020\t\tTCE/011678/2019:3442<br>\n",
    " 119/2022\tTCE/008021/2019:1041<br>\n",
    " 162/2023\tTCE/006338/2021: desentranhada"
   ]
  },
  {
   "cell_type": "code",
   "execution_count": null,
   "metadata": {},
   "outputs": [],
   "source": [
    " 223/2013\tTCE/000502/2012:68\n",
    " 253/2013\tTCE/010805/2002:124\n",
    " 258/2013\tTCE/002978/2008:106\n",
    " 238/2014\tTCE/001234/2007:379\n",
    " 560/2014\tTCE/000413/2013:671\n",
    " 655/2014\tTCE/005132/2003:759\n",
    " 656/2014\tTCE/000781/2006:760\n",
    " 8/2015\t\tTCE/002936/2006:970\n",
    " 111/2015\tTCE/000079/2010:1067\n",
    " 253/2015\tTCE/001134/2010:1198\n",
    " 287/2015\tTCE/003532/2013:1227\n",
    " 407/2015\tTCE/002493/2004:1391\n",
    " 421/2015\tTCE/005953/2003:1398\n",
    " 72/2017\tTCE/004178/2008:2014\n",
    " 127/2017\tTCE/005510/2016:2088\n",
    " 114/2018\tTCE/001895/2007:2283\n",
    " 132/2018\tTCE/003429/2011:2312\n",
    " 6/2020\t\tTCE/011678/2019:2709\n",
    " 119/2022\tTCE/008021/2019:5261\n",
    " 162/2023\tTCE/006338/2021: desentranhada"
   ]
  },
  {
   "cell_type": "code",
   "execution_count": null,
   "metadata": {},
   "outputs": [],
   "source": [
    "ajustes = {'Protocolo':['TCE/000502/2012','TCE/010805/2002','TCE/002978/2008','TCE/001234/2007','TCE/000413/2013','TCE/005132/2003','TCE/000781/2006','TCE/002936/2006','TCE/000079/2010','TCE/001134/2010','TCE/003532/2013','TCE/002493/2004','TCE/005953/2003','TCE/004178/2008','TCE/005510/2016','TCE/001895/2007','TCE/003429/2011','TCE/011678/2019','TCE/008021/2019'],\n",
    "        'PAG':[68, 124, 106, 379, 671, 759, 760, 970, 1067, 1198, 1227, 1391, 1398, 2014, 2088, 2283, 2312, 2709, 5261]}\n",
    "df_ajustes = pd.DataFrame(ajustes)\n",
    "df_ajustes"
   ]
  },
  {
   "cell_type": "code",
   "execution_count": null,
   "metadata": {},
   "outputs": [],
   "source": [
    "for ind in df_ajustes.index:\n",
    "    df_resol_ini.loc[df_resol_ini['PAG']==df_ajustes.loc[ind, 'PAG'], 'PROTOCOLO'] = df_ajustes.loc[ind, 'Protocolo']"
   ]
  },
  {
   "cell_type": "code",
   "execution_count": null,
   "metadata": {},
   "outputs": [],
   "source": [
    "df_resol_ini[df_resol_ini['PROTOCOLO']=='TCE/000079/2010']"
   ]
  },
  {
   "cell_type": "code",
   "execution_count": null,
   "metadata": {},
   "outputs": [],
   "source": [
    "set_resol = set(df_resol_ini['PROTOCOLO'])\n",
    "set_proinfo = set(df_proinfo['Protocolo'])\n",
    "print(f'Número de protocolos em Resoluções = {len(set_resol)}')\n",
    "print(f'Número de protocolos em ProInfo = {len(set_proinfo)}')\n",
    "print(f'Quantidade de protocolos existentes em Resoluções faltando em ProInfo = {len(set_resol - set_proinfo)}')\n",
    "print(f'Quantidade de protocolos existentes em ProInfo faltando em Resoluções = {len(set_proinfo - set_resol)}')\n",
    "investigar = set_proinfo - set_resol"
   ]
  },
  {
   "cell_type": "code",
   "execution_count": null,
   "metadata": {},
   "outputs": [],
   "source": [
    "df_proinfo = df_proinfo[~df_proinfo['Protocolo'].isin(investigar)]"
   ]
  },
  {
   "cell_type": "code",
   "execution_count": null,
   "metadata": {},
   "outputs": [],
   "source": [
    "set_resol = set(df_resol_ini['PROTOCOLO'])\n",
    "set_proinfo = set(df_proinfo['Protocolo'])\n",
    "print(f'Número de protocolos em Resoluções = {len(set_resol)}')\n",
    "print(f'Número de protocolos em ProInfo = {len(set_proinfo)}')\n",
    "print(f'Quantidade de protocolos existentes em Resoluções faltando em ProInfo = {len(set_resol - set_proinfo)}')\n",
    "print(f'Quantidade de protocolos existentes em ProInfo faltando em Resoluções = {len(set_proinfo - set_resol)}')\n",
    "investigar = set_proinfo - set_resol"
   ]
  },
  {
   "cell_type": "code",
   "execution_count": null,
   "metadata": {},
   "outputs": [],
   "source": [
    "# Gera o arquivo final\n",
    "set_resol = set(df_resol_ini['PROTOCOLO'])\n",
    "set_proinfo = set(df_proinfo['Protocolo'])\n",
    "df_resol = df_resol_ini[df_resol_ini['PROTOCOLO'].isin(set_proinfo.intersection(set_resol))]"
   ]
  },
  {
   "cell_type": "code",
   "execution_count": null,
   "metadata": {},
   "outputs": [],
   "source": [
    "set_resol = set(df_resol['PROTOCOLO'])\n",
    "set_proinfo = set(df_proinfo['Protocolo'])\n",
    "print(f'Número de protocolos em Resoluções = {len(set_resol)}')\n",
    "print(f'Número de protocolos em ProInfo = {len(set_proinfo)}')\n",
    "print(f'Quantidade de protocolos existentes em Resoluções faltando em ProInfo = {len(set_resol - set_proinfo)}')\n",
    "print(f'Quantidade de protocolos existentes em ProInfo faltando em Resoluções = {len(set_proinfo - set_resol)}')\n",
    "investigar = set_proinfo - set_resol"
   ]
  },
  {
   "cell_type": "code",
   "execution_count": null,
   "metadata": {},
   "outputs": [],
   "source": [
    "df_resol.drop('lista', axis=1, inplace=True)\n",
    "df_resol.to_excel(path_ajustados+'10 - Resoluções Extraídas v2_0.xlsx')"
   ]
  },
  {
   "cell_type": "markdown",
   "metadata": {},
   "source": [
    "# Juntando os textos extraídos do PDF com os dados extraídos do ProInfo,"
   ]
  },
  {
   "cell_type": "code",
   "execution_count": 3,
   "metadata": {},
   "outputs": [],
   "source": [
    "df_resol = pd.read_excel(path_ajustados+'10 - Resoluções Extraídas v2_0.xlsx', usecols=['PAG','PROTOCOLO', 'TEXTO_PDF'])\n",
    "df_proinfo = pd.read_excel(path_produtos+'01 - ProInfo - Lista Consolidada v1_0.xlsx', usecols=['Protocolo','Relator'])"
   ]
  },
  {
   "cell_type": "code",
   "execution_count": 4,
   "metadata": {},
   "outputs": [
    {
     "name": "stdout",
     "output_type": "stream",
     "text": [
      "<class 'pandas.core.frame.DataFrame'>\n",
      "RangeIndex: 2525 entries, 0 to 2524\n",
      "Data columns (total 2 columns):\n",
      " #   Column     Non-Null Count  Dtype \n",
      "---  ------     --------------  ----- \n",
      " 0   Protocolo  2525 non-null   object\n",
      " 1   Relator    2525 non-null   object\n",
      "dtypes: object(2)\n",
      "memory usage: 39.6+ KB\n"
     ]
    }
   ],
   "source": [
    "df_proinfo.info()"
   ]
  },
  {
   "cell_type": "code",
   "execution_count": 5,
   "metadata": {},
   "outputs": [
    {
     "name": "stdout",
     "output_type": "stream",
     "text": [
      "<class 'pandas.core.frame.DataFrame'>\n",
      "RangeIndex: 2728 entries, 0 to 2727\n",
      "Data columns (total 3 columns):\n",
      " #   Column     Non-Null Count  Dtype \n",
      "---  ------     --------------  ----- \n",
      " 0   PAG        2728 non-null   int64 \n",
      " 1   PROTOCOLO  2728 non-null   object\n",
      " 2   TEXTO_PDF  2728 non-null   object\n",
      "dtypes: int64(1), object(2)\n",
      "memory usage: 64.1+ KB\n"
     ]
    }
   ],
   "source": [
    "df_resol.info()"
   ]
  },
  {
   "cell_type": "code",
   "execution_count": 6,
   "metadata": {},
   "outputs": [
    {
     "name": "stdout",
     "output_type": "stream",
     "text": [
      "<class 'pandas.core.frame.DataFrame'>\n",
      "Index: 2678 entries, 2111 to 421\n",
      "Data columns (total 3 columns):\n",
      " #   Column     Non-Null Count  Dtype \n",
      "---  ------     --------------  ----- \n",
      " 0   PAG        2678 non-null   int64 \n",
      " 1   PROTOCOLO  2678 non-null   object\n",
      " 2   TEXTO_PDF  2678 non-null   object\n",
      "dtypes: int64(1), object(2)\n",
      "memory usage: 83.7+ KB\n"
     ]
    }
   ],
   "source": [
    "# Verifica situações em que o texto de uma resolução possui mais de uma página e o número do protocolo foi identificado em várias páginas. A página válida é a primeira.\n",
    "# Essa situação é diferente de quando um processo possui recurso julgado posteriormente. Nesse caso o protocolo é igual, mas as páginas não são sequenciais e a válida é a mais nova.\n",
    "\n",
    "\n",
    "def RemoveProtocolosComVariasPáginas(df_ref):\n",
    "    # Filtra os registros com protocolos duplicados\n",
    "    temp = df_ref[df_ref['PROTOCOLO'].duplicated(keep=False)].sort_values(['PROTOCOLO', 'PAG'])\n",
    "    \n",
    "    # Filtra os protocolos duplicados em páginas sequenciais.\n",
    "    filtered_temp = temp[temp.apply(lambda row: (row['PAG'] + 1) in temp[(temp['PROTOCOLO'] == row['PROTOCOLO'])]['PAG'].values or\n",
    "                                    (row['PAG'] - 1) in temp[(temp['PROTOCOLO'] == row['PROTOCOLO'])]['PAG'].values, axis=1)] \n",
    "\n",
    "    # Remove os registros duplicados em df_resol, mantendo apenas o primeiro por protocolo duplicado\n",
    "    duplicated_protocols = filtered_temp['PROTOCOLO'].unique()\n",
    "\n",
    "    df_resol_updated = pd.concat([\n",
    "        df_ref[~df_ref['PROTOCOLO'].isin(duplicated_protocols)],\n",
    "        filtered_temp.drop_duplicates(subset=['PROTOCOLO'], keep='first')\n",
    "    ]).sort_values(['PROTOCOLO', 'PAG'])\n",
    "\n",
    "    return df_resol_updated\n",
    "\n",
    "df_resol = RemoveProtocolosComVariasPáginas(df_resol)\n",
    "df_resol.info()"
   ]
  },
  {
   "cell_type": "code",
   "execution_count": 7,
   "metadata": {},
   "outputs": [
    {
     "name": "stdout",
     "output_type": "stream",
     "text": [
      "<class 'pandas.core.frame.DataFrame'>\n",
      "Index: 2524 entries, 2111 to 421\n",
      "Data columns (total 3 columns):\n",
      " #   Column     Non-Null Count  Dtype \n",
      "---  ------     --------------  ----- \n",
      " 0   PAG        2524 non-null   int64 \n",
      " 1   PROTOCOLO  2524 non-null   object\n",
      " 2   TEXTO_PDF  2524 non-null   object\n",
      "dtypes: int64(1), object(2)\n",
      "memory usage: 78.9+ KB\n"
     ]
    }
   ],
   "source": [
    "# Elimina os protocolos duplicados em resoluções diferentes, mantendo o mais recente.\n",
    "\n",
    "df_resol.drop_duplicates(subset=['PROTOCOLO'], keep='last', inplace=True) # Apagas os protocolos que foram alterados posteriormente. Mantém o último.\n",
    "df_resol.info()"
   ]
  },
  {
   "cell_type": "code",
   "execution_count": 8,
   "metadata": {},
   "outputs": [],
   "source": [
    "df_proinfo.rename(columns={'Protocolo': 'PROTOCOLO'}, inplace=True)"
   ]
  },
  {
   "cell_type": "code",
   "execution_count": 9,
   "metadata": {},
   "outputs": [],
   "source": [
    "df_resol2 = df_resol.merge(df_proinfo, on='PROTOCOLO', how='left')"
   ]
  },
  {
   "cell_type": "code",
   "execution_count": 10,
   "metadata": {},
   "outputs": [],
   "source": [
    "df_proinfo2 = df_proinfo.merge(df_resol, on='PROTOCOLO', how='left')"
   ]
  },
  {
   "cell_type": "code",
   "execution_count": 11,
   "metadata": {},
   "outputs": [
    {
     "data": {
      "text/html": [
       "<div>\n",
       "<style scoped>\n",
       "    .dataframe tbody tr th:only-of-type {\n",
       "        vertical-align: middle;\n",
       "    }\n",
       "\n",
       "    .dataframe tbody tr th {\n",
       "        vertical-align: top;\n",
       "    }\n",
       "\n",
       "    .dataframe thead th {\n",
       "        text-align: right;\n",
       "    }\n",
       "</style>\n",
       "<table border=\"1\" class=\"dataframe\">\n",
       "  <thead>\n",
       "    <tr style=\"text-align: right;\">\n",
       "      <th></th>\n",
       "      <th>PROTOCOLO</th>\n",
       "      <th>Relator</th>\n",
       "      <th>PAG</th>\n",
       "      <th>TEXTO_PDF</th>\n",
       "    </tr>\n",
       "  </thead>\n",
       "  <tbody>\n",
       "    <tr>\n",
       "      <th>2300</th>\n",
       "      <td>TCE/006338/2021</td>\n",
       "      <td>Carolina Matos</td>\n",
       "      <td>NaN</td>\n",
       "      <td>NaN</td>\n",
       "    </tr>\n",
       "  </tbody>\n",
       "</table>\n",
       "</div>"
      ],
      "text/plain": [
       "            PROTOCOLO         Relator  PAG TEXTO_PDF\n",
       "2300  TCE/006338/2021  Carolina Matos  NaN       NaN"
      ]
     },
     "execution_count": 11,
     "metadata": {},
     "output_type": "execute_result"
    }
   ],
   "source": [
    "df_proinfo2[df_proinfo2['TEXTO_PDF'].isna()]"
   ]
  },
  {
   "cell_type": "code",
   "execution_count": 12,
   "metadata": {},
   "outputs": [],
   "source": [
    "df_resol2.loc[df_resol2['Relator'] == 'JUSTINIANO ZILTON ROCHA', 'Relator'] = 'Justiniano Zilton Rocha'"
   ]
  },
  {
   "cell_type": "code",
   "execution_count": 13,
   "metadata": {},
   "outputs": [
    {
     "data": {
      "text/plain": [
       "Relator\n",
       "Pedro Henrique Lino de Souza                     744\n",
       "Joao Evilasio Vasconcelos Bonfim                 399\n",
       "Gildasio Penedo Filho                            316\n",
       "Inaldo da Paixão Santos Araújo                   265\n",
       "Marcus Vinícius de Barros Presídio               244\n",
       "Carolina Matos                                   210\n",
       "Antonio Honorato de Castro Neto                  208\n",
       "José Eduardo Vieira Zezéu Ribeiro                 82\n",
       "Justiniano Zilton Rocha                           25\n",
       "(Na Vacância) Almir Pereira da Silva              15\n",
       "(Na Vacância) Maria do Carmo Galvao do Amaral     12\n",
       "Antônio França Teixeira                            2\n",
       "(Na Vacância) Sergio Spector                       2\n",
       "Name: count, dtype: int64"
      ]
     },
     "execution_count": 13,
     "metadata": {},
     "output_type": "execute_result"
    }
   ],
   "source": [
    "df_resol2['Relator'].value_counts()"
   ]
  },
  {
   "cell_type": "code",
   "execution_count": 15,
   "metadata": {},
   "outputs": [],
   "source": [
    "df_resol2.rename(columns={'Relator': 'RELATOR'}, inplace=True)"
   ]
  },
  {
   "cell_type": "code",
   "execution_count": 16,
   "metadata": {},
   "outputs": [],
   "source": [
    "df_resol2.to_excel(path_produtos+'10 - Resoluções digitalizadas v1_0.xlsx')"
   ]
  }
 ],
 "metadata": {
  "kernelspec": {
   "display_name": "base",
   "language": "python",
   "name": "python3"
  },
  "language_info": {
   "codemirror_mode": {
    "name": "ipython",
    "version": 3
   },
   "file_extension": ".py",
   "mimetype": "text/x-python",
   "name": "python",
   "nbconvert_exporter": "python",
   "pygments_lexer": "ipython3",
   "version": "3.12.5"
  },
  "orig_nbformat": 4
 },
 "nbformat": 4,
 "nbformat_minor": 2
}

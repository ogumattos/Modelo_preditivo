{
 "cells": [
  {
   "cell_type": "markdown",
   "metadata": {},
   "source": [
    "# Identificação das pessoas físicas associadas a cada processo gerando novo dataset.\n",
    "\n",
    "Produtos:<br>\n",
    "05 - Lista de Pessoas Fisicas ProInfo.xlsx<br>\n",
    "\n",
    "Essa lista contem o nome de todas as pessoas físicas registradas como gestores no sistema ProInfo."
   ]
  },
  {
   "cell_type": "code",
   "execution_count": 1,
   "metadata": {},
   "outputs": [
    {
     "ename": "ModuleNotFoundError",
     "evalue": "No module named 'regex'",
     "output_type": "error",
     "traceback": [
      "\u001b[1;31m---------------------------------------------------------------------------\u001b[0m",
      "\u001b[1;31mModuleNotFoundError\u001b[0m                       Traceback (most recent call last)",
      "Cell \u001b[1;32mIn[1], line 2\u001b[0m\n\u001b[0;32m      1\u001b[0m \u001b[38;5;28;01mimport\u001b[39;00m \u001b[38;5;21;01mpandas\u001b[39;00m \u001b[38;5;28;01mas\u001b[39;00m \u001b[38;5;21;01mpd\u001b[39;00m\n\u001b[1;32m----> 2\u001b[0m \u001b[38;5;28;01mimport\u001b[39;00m \u001b[38;5;21;01mregex\u001b[39;00m \u001b[38;5;28;01mas\u001b[39;00m \u001b[38;5;21;01mre\u001b[39;00m\n",
      "\u001b[1;31mModuleNotFoundError\u001b[0m: No module named 'regex'"
     ]
    }
   ],
   "source": [
    "import pandas as pd\n",
    "import regex as re"
   ]
  },
  {
   "cell_type": "code",
   "execution_count": 5,
   "metadata": {},
   "outputs": [],
   "source": [
    "path_produtos = 'Dados\\Produtos\\\\'\n",
    "path_originais = 'Dados\\Coletados\\\\'\n",
    "path_ajustados = 'Dados\\Ajustados\\\\'"
   ]
  },
  {
   "cell_type": "markdown",
   "metadata": {},
   "source": [
    "# Extração do Nome das Pessoas Físicas cadastradas no campo \"Envolvido Pessoa Física\""
   ]
  },
  {
   "cell_type": "code",
   "execution_count": 6,
   "metadata": {},
   "outputs": [],
   "source": [
    "# Carrega DataSet gerado em \"01 - Tratamento Inicial dos DataSets\"\n",
    "df_proinfo = pd.read_excel(path_produtos+'01 - ProInfo - Lista Consolidada v1_0.xlsx', index_col=0)"
   ]
  },
  {
   "cell_type": "code",
   "execution_count": 7,
   "metadata": {},
   "outputs": [
    {
     "data": {
      "text/plain": [
       "Index(['Colegiado', 'Número', 'Ano', 'Protocolo', 'Natureza',\n",
       "       'Tipo de julgamento', 'Data da sessão', 'Relator', 'Exercício',\n",
       "       'Situação', 'Envolvido Pessoa Física', 'Envolvido Pessoa Jurídica',\n",
       "       'Nº de Origem'],\n",
       "      dtype='object')"
      ]
     },
     "execution_count": 7,
     "metadata": {},
     "output_type": "execute_result"
    }
   ],
   "source": [
    "df_proinfo.columns"
   ]
  },
  {
   "cell_type": "code",
   "execution_count": 8,
   "metadata": {},
   "outputs": [
    {
     "name": "stdout",
     "output_type": "stream",
     "text": [
      "|      | Envolvido Pessoa Física                                                                                                                                                                                                                                                                                                         |\n",
      "|-----:|:--------------------------------------------------------------------------------------------------------------------------------------------------------------------------------------------------------------------------------------------------------------------------------------------------------------------------------|\n",
      "| 2515 | Notificado PF: ROBERTA SILVA DE CARVALHO SANTANA, Notificado PF: ADELSON DE ARAUJO PRATA                                                                                                                                                                                                                                        |\n",
      "| 2516 | Gestor: WILSON JOSE VASCONCELOS DIAS, Secretário: Josias Gomes da Silva, Notificado PF: EDGAR SOUZA SANTOS FILHO, Advogado: JAIR CHARLES PEREIRA AZEVEDO                                                                                                                                                                        |\n",
      "| 2517 | Gestor: LUIZ ANTONIO ALVIM DELGADO, Gestor: JADSON SILVA RUAS, Notificado PF: CARLOS MARTINS MARQUES DE SANTANA                                                                                                                                                                                                                 |\n",
      "| 2518 | Gestor: VICENTE JOSE DE LIMA NETO, Notificado PF: JUSTINO DAS VIRGENS NETO                                                                                                                                                                                                                                                      |\n",
      "| 2519 | Responsável: HANDERSON JORGE DOURADO LEITE, Gestor: JANCLEI PEREIRA COUTINHO, Gestor: EDUARDO SANTANA DE ALMEIDA                                                                                                                                                                                                                |\n",
      "| 2520 | Gestor: VICENTE JOSE DE LIMA NETO, Gestor: JOSE SIVALDO RIOS DE CARVALHO                                                                                                                                                                                                                                                        |\n",
      "| 2521 | Responsável: JEANDRO LAYTYNHER RIBEIRO, Gestor: PAULO CEZAR LISBOA CERQUEIRA, Gestor: EDMON LOPES LUCAS, Gestor: MARIA DOS ANJOS SANTOS, Notificado PF: JOSE PIRAJA PINHEIRO FILHO, Notificado PF: JOSE VIVALDO SOUZA DE MENDONCA FILHO, Notificado PF: WILSON JOSE VASCONCELOS DIAS, Notificado PF: ADEILTON ASSUNCAO DA SILVA |\n",
      "| 2522 | Gestor: ROBSON AGLAYLTON CABRAL RODRIHGUES, Gestor: JULIO CESAR DE SA DA ROCHA, Representante da Procuradoria: Patricia Saback Pacheco Startari de Oliveira                                                                                                                                                                     |\n",
      "| 2523 | Notificado PF: VICENTE JOSE DE LIMA NETO                                                                                                                                                                                                                                                                                        |\n",
      "| 2524 | Gestor: WILSON JOSE VASCONCELOS DIAS, Gestor: JERONIMO RODRIGUES SOUZA, Gestor: CLEONICE MARIA SANTOS, Notificado PF: JEANDRO LAYTYNHER RIBEIRO                                                                                                                                                                                 |\n"
     ]
    }
   ],
   "source": [
    "# Verifica como as informações estão estruturadas no campo \"Envolvido Pessoa Física \"\n",
    "print(df_proinfo['Envolvido Pessoa Física'][-10:].to_markdown())"
   ]
  },
  {
   "cell_type": "code",
   "execution_count": 9,
   "metadata": {},
   "outputs": [
    {
     "data": {
      "text/plain": [
       "Gestor:          7871\n",
       "PF:              2641\n",
       "Secretário:      1522\n",
       "Responsável:     1123\n",
       "Advogado:         916\n",
       "Geral:             96\n",
       "Estado:            57\n",
       "Procuradoria:      45\n",
       "Juiz(a):            6\n",
       "Conselheiro:        2\n",
       "Promotor:           1\n",
       "Remetente:          1\n",
       "Name: count, dtype: int64"
      ]
     },
     "execution_count": 9,
     "metadata": {},
     "output_type": "execute_result"
    }
   ],
   "source": [
    "# Identifica os tipos de pessoas fisicas existentes no campo \"Envolvido Pessoa Física\"\n",
    "separadores = []\n",
    "for ind in df_proinfo.index:\n",
    "    palavras = str(df_proinfo['Envolvido Pessoa Física'][ind]).split(' ')\n",
    "    separadores.extend([palavra for palavra in palavras if ':' in palavra])\n",
    "\n",
    "pd.DataFrame(separadores).value_counts()\n"
   ]
  },
  {
   "cell_type": "code",
   "execution_count": 44,
   "metadata": {},
   "outputs": [
    {
     "data": {
      "text/html": [
       "<div>\n",
       "<style scoped>\n",
       "    .dataframe tbody tr th:only-of-type {\n",
       "        vertical-align: middle;\n",
       "    }\n",
       "\n",
       "    .dataframe tbody tr th {\n",
       "        vertical-align: top;\n",
       "    }\n",
       "\n",
       "    .dataframe thead th {\n",
       "        text-align: right;\n",
       "    }\n",
       "</style>\n",
       "<table border=\"1\" class=\"dataframe\">\n",
       "  <thead>\n",
       "    <tr style=\"text-align: right;\">\n",
       "      <th></th>\n",
       "      <th>Protocolo</th>\n",
       "      <th>Nome</th>\n",
       "      <th>Tipo</th>\n",
       "    </tr>\n",
       "  </thead>\n",
       "  <tbody>\n",
       "    <tr>\n",
       "      <th>0</th>\n",
       "      <td>TCE/016947/2002</td>\n",
       "      <td>MARIA PATRÍCIA DE SABÓIA ORRICO</td>\n",
       "      <td>Gestor</td>\n",
       "    </tr>\n",
       "    <tr>\n",
       "      <th>0</th>\n",
       "      <td>TCE/016947/2002</td>\n",
       "      <td>JAMES SILVA SANTOS CORREIA</td>\n",
       "      <td>Secretário</td>\n",
       "    </tr>\n",
       "    <tr>\n",
       "      <th>1</th>\n",
       "      <td>TCE/000684/2003</td>\n",
       "      <td>JAMES SILVA SANTOS CORREIA</td>\n",
       "      <td>Secretário</td>\n",
       "    </tr>\n",
       "    <tr>\n",
       "      <th>1</th>\n",
       "      <td>TCE/000684/2003</td>\n",
       "      <td>MARCOS DE MAGALHÃES TOURINHO</td>\n",
       "      <td>Gestor</td>\n",
       "    </tr>\n",
       "    <tr>\n",
       "      <th>1</th>\n",
       "      <td>TCE/000684/2003</td>\n",
       "      <td>MARIA PATRICIA DE SABOIA ORRICO</td>\n",
       "      <td>Gestor</td>\n",
       "    </tr>\n",
       "    <tr>\n",
       "      <th>...</th>\n",
       "      <td>...</td>\n",
       "      <td>...</td>\n",
       "      <td>...</td>\n",
       "    </tr>\n",
       "    <tr>\n",
       "      <th>2523</th>\n",
       "      <td>TCE/010710/2023</td>\n",
       "      <td>VICENTE JOSE DE LIMA NETO</td>\n",
       "      <td>PF</td>\n",
       "    </tr>\n",
       "    <tr>\n",
       "      <th>2524</th>\n",
       "      <td>TCE/008559/2021</td>\n",
       "      <td>WILSON JOSE VASCONCELOS DIAS</td>\n",
       "      <td>Gestor</td>\n",
       "    </tr>\n",
       "    <tr>\n",
       "      <th>2524</th>\n",
       "      <td>TCE/008559/2021</td>\n",
       "      <td>JERONIMO RODRIGUES SOUZA</td>\n",
       "      <td>Gestor</td>\n",
       "    </tr>\n",
       "    <tr>\n",
       "      <th>2524</th>\n",
       "      <td>TCE/008559/2021</td>\n",
       "      <td>CLEONICE MARIA SANTOS</td>\n",
       "      <td>Gestor</td>\n",
       "    </tr>\n",
       "    <tr>\n",
       "      <th>2524</th>\n",
       "      <td>TCE/008559/2021</td>\n",
       "      <td>JEANDRO LAYTYNHER RIBEIRO</td>\n",
       "      <td>PF</td>\n",
       "    </tr>\n",
       "  </tbody>\n",
       "</table>\n",
       "<p>14275 rows × 3 columns</p>\n",
       "</div>"
      ],
      "text/plain": [
       "            Protocolo                             Nome        Tipo\n",
       "0     TCE/016947/2002  MARIA PATRÍCIA DE SABÓIA ORRICO      Gestor\n",
       "0     TCE/016947/2002       JAMES SILVA SANTOS CORREIA  Secretário\n",
       "1     TCE/000684/2003       JAMES SILVA SANTOS CORREIA  Secretário\n",
       "1     TCE/000684/2003     MARCOS DE MAGALHÃES TOURINHO      Gestor\n",
       "1     TCE/000684/2003  MARIA PATRICIA DE SABOIA ORRICO      Gestor\n",
       "...               ...                              ...         ...\n",
       "2523  TCE/010710/2023        VICENTE JOSE DE LIMA NETO          PF\n",
       "2524  TCE/008559/2021     WILSON JOSE VASCONCELOS DIAS      Gestor\n",
       "2524  TCE/008559/2021         JERONIMO RODRIGUES SOUZA      Gestor\n",
       "2524  TCE/008559/2021            CLEONICE MARIA SANTOS      Gestor\n",
       "2524  TCE/008559/2021        JEANDRO LAYTYNHER RIBEIRO          PF\n",
       "\n",
       "[14275 rows x 3 columns]"
      ]
     },
     "execution_count": 44,
     "metadata": {},
     "output_type": "execute_result"
    }
   ],
   "source": [
    "# Gera um DataFrame que relaciona o nome e o tipo de cada gestor com o Protocolo.\n",
    "import pandas as pd\n",
    "import re\n",
    "\n",
    "# Função para extrair nomes e tipo (Gestor ou Secretário) usando expressões regulares\n",
    "def extrair_nomes_tipos(registro):\n",
    "    padrao = re.compile(r'(Gestor|PF|Secretário|Responsável|Advogado|Geral|Estado|Procuradoria|Juiz(a)|Conselheiro|Promotor|Remetente):\\s*([^,]+)')\n",
    "    matches = padrao.findall(registro)\n",
    "    return matches\n",
    "\n",
    "def SeparaTiposPessoaFísica(df):\n",
    "\n",
    "    # Aplicar a função à coluna 'Gestores' para criar novas colunas 'Nome' e 'Tipo'\n",
    "    df['Nomes_Tipos'] = df['Envolvido Pessoa Física'].apply(extrair_nomes_tipos)\n",
    "\n",
    "    # Explodir a lista de tuplas para várias linhas\n",
    "    df_explodido = df.explode('Nomes_Tipos')\n",
    "\n",
    "    # Dividir a tupla em duas colunas 'Nome' e 'Tipo'\n",
    "    df_explodido[['Tipo','vazio', 'Nome']] = pd.DataFrame(df_explodido['Nomes_Tipos'].tolist(), index=df_explodido.index)\n",
    "\n",
    "    # Limpar espaços extras nos nomes\n",
    "    df_explodido['Nome'] = df_explodido['Nome'].str.strip()\n",
    "\n",
    "    # Selecionar colunas desejadas no novo DataFrame\n",
    "    return df_explodido[['Protocolo', 'Nome', 'Tipo']]\n",
    "\n",
    "\n",
    "df_pf = SeparaTiposPessoaFísica(df_proinfo[['Protocolo','Envolvido Pessoa Física']].copy())\n",
    "df_pf"
   ]
  },
  {
   "cell_type": "code",
   "execution_count": 45,
   "metadata": {},
   "outputs": [
    {
     "data": {
      "text/plain": [
       "Tipo\n",
       "Gestor          7871\n",
       "PF              2641\n",
       "Secretário      1522\n",
       "Responsável     1123\n",
       "Advogado         916\n",
       "Geral             96\n",
       "Estado            57\n",
       "Procuradoria      45\n",
       "Conselheiro        2\n",
       "Promotor           1\n",
       "Remetente          1\n",
       "Name: count, dtype: int64"
      ]
     },
     "execution_count": 45,
     "metadata": {},
     "output_type": "execute_result"
    }
   ],
   "source": [
    "df_pf['Tipo'].value_counts()"
   ]
  },
  {
   "cell_type": "code",
   "execution_count": 46,
   "metadata": {},
   "outputs": [
    {
     "name": "stdout",
     "output_type": "stream",
     "text": [
      "          Protocolo                 Nome    Tipo\n",
      "18  TCE/008485/2003   Luciane Rosa Croda  Estado\n",
      "19  TCE/003999/2006   Luciane Rosa Croda  Estado\n",
      "26  TCE/005138/2008  Aline Azevedo Nunes  Estado\n",
      "30  TCE/004317/2007   Luciane Rosa Croda  Estado\n",
      "30  TCE/004317/2007  Aline Azevedo Nunes  Estado\n",
      "40  TCE/005210/2009  Aline Azevedo Nunes  Estado\n",
      "           Protocolo                           Nome   Tipo\n",
      "5    TCE/001381/2007  WELLINGTON CESAR LIMA E SILVA  Geral\n",
      "25   TCE/002446/2008            Aline Azevedo Nunes  Geral\n",
      "33   TCE/001516/2006             Luciane Rosa Croda  Geral\n",
      "36   TCE/001331/2010             Luciane Rosa Croda  Geral\n",
      "77   TCE/001534/2010            Aline Azevedo Nunes  Geral\n",
      "87   TCE/003243/2011            Aline Azevedo Nunes  Geral\n",
      "89   TCE/002283/2006                RUI MORAES CRUZ  Geral\n",
      "89   TCE/002283/2006  WELLINGTON CESAR LIMA E SILVA  Geral\n",
      "89   TCE/002283/2006     MARCIO JOSE CORDEIRO FAHEL  Geral\n",
      "135  TCE/001385/2007     MARCIO JOSE CORDEIRO FAHEL  Geral\n",
      "149  TCE/003497/2007     MARCIO JOSE CORDEIRO FAHEL  Geral\n",
      "149  TCE/003497/2007     MARCIO JOSE CORDEIRO FAHEL  Geral\n",
      "190  TCE/002692/2009     MARCIO JOSE CORDEIRO FAHEL  Geral\n",
      "190  TCE/002692/2009            Aline Azevedo Nunes  Geral\n",
      "195  TCE/000150/2008                RUI MORAES CRUZ  Geral\n",
      "208  TCE/000866/2002     MARCIO JOSE CORDEIRO FAHEL  Geral\n"
     ]
    }
   ],
   "source": [
    "# Existem dois tipos não esperados: \"Estado\" e \"Geral\"\n",
    "print(df_pf[df_pf['Tipo']=='Estado'].head(6))\n",
    "print(df_pf[df_pf['Tipo']=='Geral'].head(16))"
   ]
  },
  {
   "cell_type": "code",
   "execution_count": 47,
   "metadata": {},
   "outputs": [
    {
     "name": "stdout",
     "output_type": "stream",
     "text": [
      "            Protocolo             Nome         Tipo\n",
      "89    TCE/002283/2006  RUI MORAES CRUZ        Geral\n",
      "195   TCE/000150/2008  RUI MORAES CRUZ        Geral\n",
      "208   TCE/000866/2002  RUI MORAES CRUZ        Geral\n",
      "329   TCE/008388/2005  RUI MORAES CRUZ        Geral\n",
      "1409  TCE/003128/2010  RUI MORAES CRUZ       Gestor\n",
      "1457  TCE/003129/2010  RUI MORAES CRUZ  Responsável\n",
      "1503  TCE/001352/2016  RUI MORAES CRUZ       Gestor\n"
     ]
    }
   ],
   "source": [
    "print(df_pf[df_pf['Nome']=='RUI MORAES CRUZ'])"
   ]
  },
  {
   "cell_type": "code",
   "execution_count": 48,
   "metadata": {},
   "outputs": [
    {
     "data": {
      "text/plain": [
       "Tipo\n",
       "Gestor         7871\n",
       "PF             2641\n",
       "Secretário     1522\n",
       "Responsável    1123\n",
       "Geral            96\n",
       "Estado           57\n",
       "Name: count, dtype: int64"
      ]
     },
     "execution_count": 48,
     "metadata": {},
     "output_type": "execute_result"
    }
   ],
   "source": [
    "# Elimina os tipos de pessoas físicas que não são Convenentes nem Concedentes\n",
    "# Os campos do tipo Geral e Estado podem ser qualquer coisa, portanto serão mantidos.\n",
    "tipos_validos = ['Gestor', 'PF', 'Secretário', 'Responsável', 'Geral', 'Estado']\n",
    "df_pf = df_pf[df_pf['Tipo'].isin(tipos_validos)].copy()\n",
    "df_pf['Tipo'].value_counts()"
   ]
  },
  {
   "cell_type": "code",
   "execution_count": 49,
   "metadata": {},
   "outputs": [],
   "source": [
    "# Transforma todos os nomes em letras maiúsculas para facilitar comparações.\n",
    "df_pf['Nome'] = [nome.upper() for nome in df_pf['Nome']]"
   ]
  },
  {
   "cell_type": "code",
   "execution_count": 51,
   "metadata": {},
   "outputs": [],
   "source": [
    "df_pf.to_excel(path_produtos+'05 - Lista de Pessoas Fisicas ProInfo v1_0.xlsx')"
   ]
  }
 ],
 "metadata": {
  "kernelspec": {
   "display_name": "base",
   "language": "python",
   "name": "python3"
  },
  "language_info": {
   "codemirror_mode": {
    "name": "ipython",
    "version": 3
   },
   "file_extension": ".py",
   "mimetype": "text/x-python",
   "name": "python",
   "nbconvert_exporter": "python",
   "pygments_lexer": "ipython3",
   "version": "3.12.5"
  }
 },
 "nbformat": 4,
 "nbformat_minor": 2
}

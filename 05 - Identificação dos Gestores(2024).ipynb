{
 "cells": [
  {
   "cell_type": "markdown",
   "metadata": {},
   "source": [
    "# Identificação das pessoas físicas associadas a cada processo gerando novo dataset.\n",
    "\n",
    "Produtos:<br>\n",
    "05 - Lista de Pessoas Fisicas ProInfo.xlsx<br>\n",
    "\n",
    "Essa lista contem o nome de todas as pessoas físicas registradas como gestores no sistema ProInfo."
   ]
  },
  {
   "cell_type": "code",
   "execution_count": null,
   "metadata": {},
   "outputs": [],
   "source": [
    "%conda install tabulate"
   ]
  },
  {
   "cell_type": "code",
   "execution_count": null,
   "metadata": {},
   "outputs": [],
   "source": [
    "%conda install openpyxl"
   ]
  },
  {
   "cell_type": "code",
   "execution_count": null,
   "metadata": {},
   "outputs": [],
   "source": [
    "# %conda install regex"
   ]
  },
  {
   "cell_type": "code",
   "execution_count": 1,
   "metadata": {},
   "outputs": [],
   "source": [
    "import pandas as pd\n",
    "import regex as re\n",
    "import os\n",
    "\n",
    "if os.name == 'nt':  # Windows\n",
    "    path_produtos = 'Dados\\\\Produtos\\\\'\n",
    "    path_originais = 'Dados\\\\Coletados\\\\'\n",
    "    path_ajustados = 'Dados\\\\Ajustados\\\\'\n",
    "else:  # Ubuntu\n",
    "    path_produtos = 'Dados/Produtos/'\n",
    "    path_originais = 'Dados/Coletados/'\n",
    "    path_ajustados = 'Dados/Ajustados/'"
   ]
  },
  {
   "cell_type": "markdown",
   "metadata": {},
   "source": [
    "# Extração do Nome das Pessoas Físicas cadastradas no campo \"Envolvido Pessoa Física\""
   ]
  },
  {
   "cell_type": "code",
   "execution_count": null,
   "metadata": {},
   "outputs": [],
   "source": [
    "# Carrega DataSet gerado em \"01 - Tratamento Inicial dos DataSets\"\n",
    "df_proinfo = pd.read_excel(path_produtos+'01 - ProInfo - Lista Consolidada v1_0.xlsx', index_col=0)"
   ]
  },
  {
   "cell_type": "code",
   "execution_count": null,
   "metadata": {},
   "outputs": [],
   "source": [
    "df_proinfo.columns"
   ]
  },
  {
   "cell_type": "code",
   "execution_count": null,
   "metadata": {},
   "outputs": [],
   "source": [
    "# Verifica como as informações estão estruturadas no campo \"Envolvido Pessoa Física \"\n",
    "print(df_proinfo['Envolvido Pessoa Física'][-10:].to_markdown())"
   ]
  },
  {
   "cell_type": "code",
   "execution_count": null,
   "metadata": {},
   "outputs": [],
   "source": [
    "# Identifica os tipos de pessoas fisicas existentes no campo \"Envolvido Pessoa Física\"\n",
    "separadores = []\n",
    "for ind in df_proinfo.index:\n",
    "    palavras = str(df_proinfo['Envolvido Pessoa Física'][ind]).split(' ')\n",
    "    separadores.extend([palavra for palavra in palavras if ':' in palavra])\n",
    "\n",
    "pd.DataFrame(separadores).value_counts()\n"
   ]
  },
  {
   "cell_type": "code",
   "execution_count": null,
   "metadata": {},
   "outputs": [],
   "source": [
    "# Gera um DataFrame que relaciona o nome e o tipo de cada gestor com o Protocolo.\n",
    "import pandas as pd\n",
    "import re\n",
    "\n",
    "# Função para extrair nomes e tipo (Gestor ou Secretário) usando expressões regulares\n",
    "def extrair_nomes_tipos(registro):\n",
    "    padrao = re.compile(r'(Gestor|PF|Secretário|Responsável|Advogado|Geral|Estado|Procuradoria|Juiz(a)|Conselheiro|Promotor|Remetente):\\s*([^,]+)')\n",
    "    matches = padrao.findall(registro)\n",
    "    return matches\n",
    "\n",
    "def SeparaTiposPessoaFísica(df):\n",
    "\n",
    "    # Aplicar a função à coluna 'Gestores' para criar novas colunas 'Nome' e 'Tipo'\n",
    "    df['Nomes_Tipos'] = df['Envolvido Pessoa Física'].apply(extrair_nomes_tipos)\n",
    "\n",
    "    # Explodir a lista de tuplas para várias linhas\n",
    "    df_explodido = df.explode('Nomes_Tipos')\n",
    "\n",
    "    # Dividir a tupla em duas colunas 'Nome' e 'Tipo'\n",
    "    df_explodido[['Tipo','vazio', 'Nome']] = pd.DataFrame(df_explodido['Nomes_Tipos'].tolist(), index=df_explodido.index)\n",
    "\n",
    "    # Limpar espaços extras nos nomes\n",
    "    df_explodido['Nome'] = df_explodido['Nome'].str.strip()\n",
    "\n",
    "    # Selecionar colunas desejadas no novo DataFrame\n",
    "    return df_explodido[['Protocolo', 'Nome', 'Tipo']]\n",
    "\n",
    "\n",
    "df_pf = SeparaTiposPessoaFísica(df_proinfo[['Protocolo','Envolvido Pessoa Física']].copy())\n",
    "df_pf"
   ]
  },
  {
   "cell_type": "code",
   "execution_count": null,
   "metadata": {},
   "outputs": [],
   "source": [
    "df_pf['Tipo'].value_counts()"
   ]
  },
  {
   "cell_type": "code",
   "execution_count": null,
   "metadata": {},
   "outputs": [],
   "source": [
    "# Existem dois tipos não esperados: \"Estado\" e \"Geral\"\n",
    "print(df_pf[df_pf['Tipo']=='Estado'].head(6))\n",
    "print(df_pf[df_pf['Tipo']=='Geral'].head(16))"
   ]
  },
  {
   "cell_type": "code",
   "execution_count": null,
   "metadata": {},
   "outputs": [],
   "source": [
    "print(df_pf[df_pf['Nome']=='RUI MORAES CRUZ'])"
   ]
  },
  {
   "cell_type": "code",
   "execution_count": null,
   "metadata": {},
   "outputs": [],
   "source": [
    "# Elimina os tipos de pessoas físicas que não são Convenentes nem Concedentes\n",
    "# Os campos do tipo Geral e Estado podem ser qualquer coisa, portanto serão mantidos.\n",
    "tipos_validos = ['Gestor', 'PF', 'Secretário', 'Responsável', 'Geral', 'Estado']\n",
    "df_pf = df_pf[df_pf['Tipo'].isin(tipos_validos)].copy()\n",
    "df_pf['Tipo'].value_counts()"
   ]
  },
  {
   "cell_type": "code",
   "execution_count": null,
   "metadata": {},
   "outputs": [],
   "source": [
    "# Transforma todos os nomes em letras maiúsculas para facilitar comparações.\n",
    "df_pf['Nome'] = [nome.upper() for nome in df_pf['Nome']]"
   ]
  },
  {
   "cell_type": "code",
   "execution_count": null,
   "metadata": {},
   "outputs": [],
   "source": [
    "df_pf.to_excel(path_produtos+'05 - Lista de Pessoas Fisicas ProInfo v1_0.xlsx')"
   ]
  },
  {
   "cell_type": "markdown",
   "metadata": {},
   "source": [
    "Arquivo ajustado no ambiente Linux"
   ]
  }
 ],
 "metadata": {
  "kernelspec": {
   "display_name": "tensor",
   "language": "python",
   "name": "python3"
  },
  "language_info": {
   "codemirror_mode": {
    "name": "ipython",
    "version": 3
   },
   "file_extension": ".py",
   "mimetype": "text/x-python",
   "name": "python",
   "nbconvert_exporter": "python",
   "pygments_lexer": "ipython3",
   "version": "3.12.9"
  }
 },
 "nbformat": 4,
 "nbformat_minor": 2
}
